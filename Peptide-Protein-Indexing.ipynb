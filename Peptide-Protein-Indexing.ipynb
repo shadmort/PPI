{
 "cells": [
  {
   "cell_type": "markdown",
   "id": "f325d512",
   "metadata": {},
   "source": [
    "# Peptide Protein Indexing (PPI)"
   ]
  },
  {
   "cell_type": "code",
   "execution_count": 1,
   "id": "2bea108f",
   "metadata": {},
   "outputs": [],
   "source": [
    "import pandas as pd"
   ]
  },
  {
   "cell_type": "code",
   "execution_count": null,
   "id": "4f925f28",
   "metadata": {},
   "outputs": [],
   "source": [
    "raw = pd.read_excel('/Users/wyssuser/Documents/Mesothelioma/Mesothelioma Biomarker Discovery/020223_MesoPlasTMT_PSM.xlsx')\n",
    "raw"
   ]
  },
  {
   "cell_type": "code",
   "execution_count": null,
   "id": "1fd85ec3",
   "metadata": {},
   "outputs": [],
   "source": []
  },
  {
   "cell_type": "code",
   "execution_count": 2,
   "id": "0f1a65f0",
   "metadata": {},
   "outputs": [
    {
     "data": {
      "text/html": [
       "<div>\n",
       "<style scoped>\n",
       "    .dataframe tbody tr th:only-of-type {\n",
       "        vertical-align: middle;\n",
       "    }\n",
       "\n",
       "    .dataframe tbody tr th {\n",
       "        vertical-align: top;\n",
       "    }\n",
       "\n",
       "    .dataframe thead th {\n",
       "        text-align: right;\n",
       "    }\n",
       "</style>\n",
       "<table border=\"1\" class=\"dataframe\">\n",
       "  <thead>\n",
       "    <tr style=\"text-align: right;\">\n",
       "      <th></th>\n",
       "      <th>Checked</th>\n",
       "      <th>Confidence</th>\n",
       "      <th>Identifying Node</th>\n",
       "      <th>PSM Ambiguity</th>\n",
       "      <th>Annotated Sequence</th>\n",
       "      <th>Modifications</th>\n",
       "      <th># Proteins</th>\n",
       "      <th>Master Protein Accessions</th>\n",
       "      <th>Protein Accessions</th>\n",
       "      <th># Missed Cleavages</th>\n",
       "      <th>...</th>\n",
       "      <th>Abundance: 134N</th>\n",
       "      <th>Abundance: 134C</th>\n",
       "      <th>Abundance: 135N</th>\n",
       "      <th>Quan Info</th>\n",
       "      <th>XCorr</th>\n",
       "      <th># Protein Groups</th>\n",
       "      <th>Contaminant</th>\n",
       "      <th>Spectral Angle</th>\n",
       "      <th>Percolator q-Value</th>\n",
       "      <th>Percolator PEP</th>\n",
       "    </tr>\n",
       "  </thead>\n",
       "  <tbody>\n",
       "    <tr>\n",
       "      <th>0</th>\n",
       "      <td>False</td>\n",
       "      <td>High</td>\n",
       "      <td>Sequest HT (A25)</td>\n",
       "      <td>Unambiguous</td>\n",
       "      <td>[K].aGPHcPTAQLIATLk.[N]</td>\n",
       "      <td>N-Term(TMTpro); C5(Carbamidomethyl); K15(TMTpro)</td>\n",
       "      <td>2</td>\n",
       "      <td>P10720</td>\n",
       "      <td>P10720; P02776</td>\n",
       "      <td>0</td>\n",
       "      <td>...</td>\n",
       "      <td>87409.164062</td>\n",
       "      <td>127179.054688</td>\n",
       "      <td>56973.535156</td>\n",
       "      <td>NaN</td>\n",
       "      <td>3.09</td>\n",
       "      <td>1</td>\n",
       "      <td>False</td>\n",
       "      <td>0.46</td>\n",
       "      <td>0.000132</td>\n",
       "      <td>0.000012</td>\n",
       "    </tr>\n",
       "    <tr>\n",
       "      <th>1</th>\n",
       "      <td>False</td>\n",
       "      <td>High</td>\n",
       "      <td>CHIMERYS Identification (A28)</td>\n",
       "      <td>Unambiguous</td>\n",
       "      <td>[K].aGPHcPTAQLIATLk.[N]</td>\n",
       "      <td>N-Term(TMTpro); C5(Carbamidomethyl); K15(TMTpro)</td>\n",
       "      <td>2</td>\n",
       "      <td>P10720</td>\n",
       "      <td>P10720; P02776</td>\n",
       "      <td>0</td>\n",
       "      <td>...</td>\n",
       "      <td>87409.164062</td>\n",
       "      <td>127179.054688</td>\n",
       "      <td>56973.535156</td>\n",
       "      <td>NaN</td>\n",
       "      <td>NaN</td>\n",
       "      <td>1</td>\n",
       "      <td>False</td>\n",
       "      <td>NaN</td>\n",
       "      <td>0.000146</td>\n",
       "      <td>0.000018</td>\n",
       "    </tr>\n",
       "    <tr>\n",
       "      <th>2</th>\n",
       "      <td>False</td>\n",
       "      <td>High</td>\n",
       "      <td>CHIMERYS Identification (A28)</td>\n",
       "      <td>Unambiguous</td>\n",
       "      <td>[R].hITSLEVIk.[A]</td>\n",
       "      <td>N-Term(TMTpro); K9(TMTpro)</td>\n",
       "      <td>2</td>\n",
       "      <td>P10720</td>\n",
       "      <td>P10720; P02776</td>\n",
       "      <td>0</td>\n",
       "      <td>...</td>\n",
       "      <td>263017.781250</td>\n",
       "      <td>201145.468750</td>\n",
       "      <td>286589.531250</td>\n",
       "      <td>NaN</td>\n",
       "      <td>NaN</td>\n",
       "      <td>1</td>\n",
       "      <td>False</td>\n",
       "      <td>NaN</td>\n",
       "      <td>0.000162</td>\n",
       "      <td>0.000435</td>\n",
       "    </tr>\n",
       "    <tr>\n",
       "      <th>3</th>\n",
       "      <td>False</td>\n",
       "      <td>High</td>\n",
       "      <td>CHIMERYS Identification (A28)</td>\n",
       "      <td>Unambiguous</td>\n",
       "      <td>[R].hITSLEVIk.[A]</td>\n",
       "      <td>N-Term(TMTpro); K9(TMTpro)</td>\n",
       "      <td>2</td>\n",
       "      <td>P10720</td>\n",
       "      <td>P10720; P02776</td>\n",
       "      <td>0</td>\n",
       "      <td>...</td>\n",
       "      <td>77673.921875</td>\n",
       "      <td>152828.921875</td>\n",
       "      <td>81497.320312</td>\n",
       "      <td>NaN</td>\n",
       "      <td>NaN</td>\n",
       "      <td>1</td>\n",
       "      <td>False</td>\n",
       "      <td>NaN</td>\n",
       "      <td>0.000162</td>\n",
       "      <td>0.000160</td>\n",
       "    </tr>\n",
       "    <tr>\n",
       "      <th>4</th>\n",
       "      <td>False</td>\n",
       "      <td>High</td>\n",
       "      <td>CHIMERYS Identification (A28)</td>\n",
       "      <td>Unambiguous</td>\n",
       "      <td>[R].hITSLEVIk.[A]</td>\n",
       "      <td>N-Term(TMTpro); K9(TMTpro)</td>\n",
       "      <td>2</td>\n",
       "      <td>P10720</td>\n",
       "      <td>P10720; P02776</td>\n",
       "      <td>0</td>\n",
       "      <td>...</td>\n",
       "      <td>82049.453125</td>\n",
       "      <td>173079.812500</td>\n",
       "      <td>109850.296875</td>\n",
       "      <td>NaN</td>\n",
       "      <td>NaN</td>\n",
       "      <td>1</td>\n",
       "      <td>False</td>\n",
       "      <td>NaN</td>\n",
       "      <td>0.000215</td>\n",
       "      <td>0.001170</td>\n",
       "    </tr>\n",
       "    <tr>\n",
       "      <th>5</th>\n",
       "      <td>False</td>\n",
       "      <td>High</td>\n",
       "      <td>Sequest HT (A25)</td>\n",
       "      <td>Unambiguous</td>\n",
       "      <td>[R].hITSLEVIk.[A]</td>\n",
       "      <td>N-Term(TMTpro); K9(TMTpro)</td>\n",
       "      <td>2</td>\n",
       "      <td>P10720</td>\n",
       "      <td>P10720; P02776</td>\n",
       "      <td>0</td>\n",
       "      <td>...</td>\n",
       "      <td>40374.515625</td>\n",
       "      <td>39003.136719</td>\n",
       "      <td>39859.335938</td>\n",
       "      <td>NaN</td>\n",
       "      <td>1.62</td>\n",
       "      <td>1</td>\n",
       "      <td>False</td>\n",
       "      <td>0.21</td>\n",
       "      <td>0.000723</td>\n",
       "      <td>0.019320</td>\n",
       "    </tr>\n",
       "    <tr>\n",
       "      <th>6</th>\n",
       "      <td>False</td>\n",
       "      <td>High</td>\n",
       "      <td>Sequest HT (A25)</td>\n",
       "      <td>Unambiguous</td>\n",
       "      <td>[R].hITSLEVIk.[A]</td>\n",
       "      <td>N-Term(TMTpro); K9(TMTpro)</td>\n",
       "      <td>2</td>\n",
       "      <td>P10720</td>\n",
       "      <td>P10720; P02776</td>\n",
       "      <td>0</td>\n",
       "      <td>...</td>\n",
       "      <td>84262.890625</td>\n",
       "      <td>118420.968750</td>\n",
       "      <td>106161.546875</td>\n",
       "      <td>NaN</td>\n",
       "      <td>1.30</td>\n",
       "      <td>1</td>\n",
       "      <td>False</td>\n",
       "      <td>0.28</td>\n",
       "      <td>0.003537</td>\n",
       "      <td>0.076150</td>\n",
       "    </tr>\n",
       "  </tbody>\n",
       "</table>\n",
       "<p>7 rows × 58 columns</p>\n",
       "</div>"
      ],
      "text/plain": [
       "   Checked Confidence               Identifying Node PSM Ambiguity  \\\n",
       "0    False       High               Sequest HT (A25)   Unambiguous   \n",
       "1    False       High  CHIMERYS Identification (A28)   Unambiguous   \n",
       "2    False       High  CHIMERYS Identification (A28)   Unambiguous   \n",
       "3    False       High  CHIMERYS Identification (A28)   Unambiguous   \n",
       "4    False       High  CHIMERYS Identification (A28)   Unambiguous   \n",
       "5    False       High               Sequest HT (A25)   Unambiguous   \n",
       "6    False       High               Sequest HT (A25)   Unambiguous   \n",
       "\n",
       "        Annotated Sequence                                     Modifications  \\\n",
       "0  [K].aGPHcPTAQLIATLk.[N]  N-Term(TMTpro); C5(Carbamidomethyl); K15(TMTpro)   \n",
       "1  [K].aGPHcPTAQLIATLk.[N]  N-Term(TMTpro); C5(Carbamidomethyl); K15(TMTpro)   \n",
       "2        [R].hITSLEVIk.[A]                        N-Term(TMTpro); K9(TMTpro)   \n",
       "3        [R].hITSLEVIk.[A]                        N-Term(TMTpro); K9(TMTpro)   \n",
       "4        [R].hITSLEVIk.[A]                        N-Term(TMTpro); K9(TMTpro)   \n",
       "5        [R].hITSLEVIk.[A]                        N-Term(TMTpro); K9(TMTpro)   \n",
       "6        [R].hITSLEVIk.[A]                        N-Term(TMTpro); K9(TMTpro)   \n",
       "\n",
       "   # Proteins Master Protein Accessions Protein Accessions  \\\n",
       "0           2                    P10720     P10720; P02776   \n",
       "1           2                    P10720     P10720; P02776   \n",
       "2           2                    P10720     P10720; P02776   \n",
       "3           2                    P10720     P10720; P02776   \n",
       "4           2                    P10720     P10720; P02776   \n",
       "5           2                    P10720     P10720; P02776   \n",
       "6           2                    P10720     P10720; P02776   \n",
       "\n",
       "   # Missed Cleavages  ...  Abundance: 134N  Abundance: 134C  Abundance: 135N  \\\n",
       "0                   0  ...     87409.164062    127179.054688     56973.535156   \n",
       "1                   0  ...     87409.164062    127179.054688     56973.535156   \n",
       "2                   0  ...    263017.781250    201145.468750    286589.531250   \n",
       "3                   0  ...     77673.921875    152828.921875     81497.320312   \n",
       "4                   0  ...     82049.453125    173079.812500    109850.296875   \n",
       "5                   0  ...     40374.515625     39003.136719     39859.335938   \n",
       "6                   0  ...     84262.890625    118420.968750    106161.546875   \n",
       "\n",
       "   Quan Info  XCorr  # Protein Groups  Contaminant  Spectral Angle  \\\n",
       "0        NaN   3.09                 1        False            0.46   \n",
       "1        NaN    NaN                 1        False             NaN   \n",
       "2        NaN    NaN                 1        False             NaN   \n",
       "3        NaN    NaN                 1        False             NaN   \n",
       "4        NaN    NaN                 1        False             NaN   \n",
       "5        NaN   1.62                 1        False            0.21   \n",
       "6        NaN   1.30                 1        False            0.28   \n",
       "\n",
       "   Percolator q-Value  Percolator PEP  \n",
       "0            0.000132        0.000012  \n",
       "1            0.000146        0.000018  \n",
       "2            0.000162        0.000435  \n",
       "3            0.000162        0.000160  \n",
       "4            0.000215        0.001170  \n",
       "5            0.000723        0.019320  \n",
       "6            0.003537        0.076150  \n",
       "\n",
       "[7 rows x 58 columns]"
      ]
     },
     "execution_count": 2,
     "metadata": {},
     "output_type": "execute_result"
    }
   ],
   "source": [
    "df = pd.read_excel('/Users/wyssuser/Documents/Mesothelioma/Mesothelioma Biomarker Discovery/PF4V1.xlsx')\n",
    "df"
   ]
  },
  {
   "cell_type": "code",
   "execution_count": 3,
   "id": "687fe3d8",
   "metadata": {},
   "outputs": [],
   "source": [
    "mylist = df['Annotated Sequence'].to_list()"
   ]
  },
  {
   "cell_type": "code",
   "execution_count": 4,
   "id": "2c9b651e",
   "metadata": {},
   "outputs": [
    {
     "data": {
      "text/plain": [
       "['aGPHcPTAQLIATLk',\n",
       " 'aGPHcPTAQLIATLk',\n",
       " 'hITSLEVIk',\n",
       " 'hITSLEVIk',\n",
       " 'hITSLEVIk',\n",
       " 'hITSLEVIk',\n",
       " 'hITSLEVIk']"
      ]
     },
     "execution_count": 4,
     "metadata": {},
     "output_type": "execute_result"
    }
   ],
   "source": [
    "mylist2 = []\n",
    "[mylist2.append(x[4:-4]) for x in mylist]\n",
    "mylist2"
   ]
  },
  {
   "cell_type": "code",
   "execution_count": 5,
   "id": "89344c9f",
   "metadata": {},
   "outputs": [
    {
     "data": {
      "text/plain": [
       "['aGPHcPTAQLIATLk', 'hITSLEVIk']"
      ]
     },
     "execution_count": 5,
     "metadata": {},
     "output_type": "execute_result"
    }
   ],
   "source": [
    "res = []\n",
    "[res.append(x) for x in mylist2 if x not in res]\n",
    "res"
   ]
  },
  {
   "cell_type": "code",
   "execution_count": 6,
   "id": "d566ca1b",
   "metadata": {},
   "outputs": [
    {
     "data": {
      "text/plain": [
       "['AGPHCPTAQLIATLK', 'HITSLEVIK']"
      ]
     },
     "execution_count": 6,
     "metadata": {},
     "output_type": "execute_result"
    }
   ],
   "source": [
    "res3 = []\n",
    "\n",
    "[res3.append(x.upper()) for x in res]\n",
    "res3"
   ]
  },
  {
   "cell_type": "code",
   "execution_count": 7,
   "id": "a7c97e42",
   "metadata": {},
   "outputs": [],
   "source": [
    "prot = 'MSSAARSRLT RATRQEMLFL ALLLLPVVVA FARAEAEEDG DLQCLCVKTT SQVRPRHITS LEVIKAGPHC PTAQLIATLK NGRKICLDLQ ALLYKKIIKE HLES'\n"
   ]
  },
  {
   "cell_type": "code",
   "execution_count": 8,
   "id": "92ab37ea",
   "metadata": {},
   "outputs": [
    {
     "data": {
      "text/plain": [
       "'MSSAARSRLTRATRQEMLFLALLLLPVVVAFARAEAEEDGDLQCLCVKTTSQVRPRHITSLEVIKAGPHCPTAQLIATLKNGRKICLDLQALLYKKIIKEHLES'"
      ]
     },
     "execution_count": 8,
     "metadata": {},
     "output_type": "execute_result"
    }
   ],
   "source": [
    "prot = prot.replace(' ', '')\n",
    "prot"
   ]
  },
  {
   "cell_type": "code",
   "execution_count": 9,
   "id": "58a94bd3",
   "metadata": {},
   "outputs": [
    {
     "data": {
      "text/plain": [
       "['AGPHCPTAQLIATLK', 'HITSLEVIK']"
      ]
     },
     "execution_count": 9,
     "metadata": {},
     "output_type": "execute_result"
    }
   ],
   "source": [
    "[x for x in res3 if x in prot]"
   ]
  },
  {
   "cell_type": "code",
   "execution_count": 10,
   "id": "c0eba4c0",
   "metadata": {},
   "outputs": [
    {
     "name": "stdout",
     "output_type": "stream",
     "text": [
      "AGPHCPTAQLIATLK: 66-80\n"
     ]
    }
   ],
   "source": [
    "def printIndex(str, s):\n",
    " \n",
    "    flag = False\n",
    "    for i in range(len(str)):\n",
    "        if (str[i:i + len(s)] == s):\n",
    "            foo = i+1\n",
    "            bar = i+len(s)\n",
    "            print(f'{s}: {foo}-{bar}')\n",
    "            flag = True\n",
    " \n",
    "    if (flag == False):\n",
    "        print(\"NONE\")\n",
    " \n",
    " \n",
    "# Driver code\n",
    "str1 = prot\n",
    "str2 = res3[0]\n",
    "printIndex(str1, str2)"
   ]
  },
  {
   "cell_type": "code",
   "execution_count": 11,
   "id": "55f53698",
   "metadata": {},
   "outputs": [
    {
     "name": "stdout",
     "output_type": "stream",
     "text": [
      "AGPHCPTAQLIATLK: 66-80\n",
      "HITSLEVIK: 57-65\n"
     ]
    },
    {
     "data": {
      "text/plain": [
       "[None, None]"
      ]
     },
     "execution_count": 11,
     "metadata": {},
     "output_type": "execute_result"
    }
   ],
   "source": [
    "indexList = []\n",
    "[indexList.append(printIndex(prot, x)) for x in res3]\n",
    "indexList"
   ]
  },
  {
   "cell_type": "code",
   "execution_count": null,
   "id": "10bc6221",
   "metadata": {},
   "outputs": [],
   "source": []
  }
 ],
 "metadata": {
  "kernelspec": {
   "display_name": "Python 3 (ipykernel)",
   "language": "python",
   "name": "python3"
  },
  "language_info": {
   "codemirror_mode": {
    "name": "ipython",
    "version": 3
   },
   "file_extension": ".py",
   "mimetype": "text/x-python",
   "name": "python",
   "nbconvert_exporter": "python",
   "pygments_lexer": "ipython3",
   "version": "3.9.13"
  }
 },
 "nbformat": 4,
 "nbformat_minor": 5
}
